{
 "cells": [
  {
   "cell_type": "markdown",
   "metadata": {},
   "source": [
    "# Princeton Web Census Interface\n",
    "## *About:*\n",
    "This jupyter notebook provides an interface for interacting with data from the Princeton Web Census.\n",
    "\n",
    "For questions or comments, feel free to email dill.reisman@gmail.com, or open up an issue on [our Github repo](https://github.com/dreisman/WebCensusNotebook).\n",
    "\n",
    "## *How to use:*\n",
    "To execute a cell, select/click it, and either press the 'play' button in the top tool bar or use the keyboard shortcut shift+enter\n",
    "\n",
    "## *Warning:*\n",
    "This interface is optimized for fast exploration of individual first parties and third parties. Actions that require a lot of data from many third parties/first parties can get slow. For instance, we do not recommend attempting to get all third party resources on more than 10000 first parties all at once, unless you intend to wait. We recommend sampling where you can, and estimating how many first parties and third parties you might be accessing before fully executing a command.\n",
    "\n",
    "\n",
    "## *Getting started:*\n",
    "\n",
    "Run the cell below to create a `Census` object, which provides the interface for accessing the web census data for a particular web census crawl. Everything you need is encapsulated by this object.\n",
    "\n",
    "For instance, if you want to get information about a particular third party, you can access it through Census.third_parties['thirdparty.com'].\n",
    "\n",
    "For information about a first party, you can access Census.first_parties['firstparty.com'].\n",
    "\n",
    "For information about a particular known Organization, you can access Census.organizations['Org Name'].\n",
    "\n",
    "All objects you access provide many properties you can explore, from the Alexa rank of a first party to the third party resources that a first party embeds on the site, and which of those third party resources are trackers. The best way to learn about our data is to explore the interface.\n",
    "\n",
    "## *Available census crawls:*\n",
    "When more censuses are available, you can set census_name to the desired census in the first code cell below.\n",
    "\n",
    "* \"census_2016_10_1m_stateless\": A crawl of the top 1M sites from October 2016. Browser state (cookies, localstorage, etc.) was cleared between each site visit.\n",
    "* \"census_2015_12_1m_stateless\": A crawl of the top 1M sites from December 2015. Browser state (cookies, localstorage, etc.) was cleared between each site visit.\n",
    "\n",
    "\n",
    "(January 2017 and May 2017 1-million-site crawls coming soon.)\n"
   ]
  },
  {
   "cell_type": "markdown",
   "metadata": {},
   "source": [
    "## *Execute this cell first!*\n",
    "### Select it and hit shift+enter. It'll take approx. 10 seconds to initialize.\n",
    "*NOTE*: You can also create multiple census objects for multiple crawls!"
   ]
  },
  {
   "cell_type": "code",
   "execution_count": null,
   "metadata": {
    "collapsed": false
   },
   "outputs": [],
   "source": [
    "import matplotlib.pyplot as plt\n",
    "import seaborn as sns\n",
    "%matplotlib inline\n",
    "import sys\n",
    "import os\n",
    "sys.path.append(os.path.realpath('censuslib'))\n",
    "from censuslib import census\n",
    "\n",
    "# Note: If you'd like to access one of our other databases, replace census_name\n",
    "# with one of our other available crawls listed above\n",
    "census_name = 'census_2016_10_1m_stateless'\n",
    "#census_name = 'census_2015_12_1m_stateless'\n",
    "\n",
    "# the 'cen' Census object provides the interface for interacting with\n",
    "# census data\n",
    "cen = census.Census(census_name)"
   ]
  },
  {
   "cell_type": "markdown",
   "metadata": {},
   "source": [
    "## Basic use of the interface\n",
    "You can append '?' to the end of an object to get a description of the object. Each object has many properties that can aid you in analyzing the data. Try running the below cells to learn more about the different objects you can access and their properties:"
   ]
  },
  {
   "cell_type": "code",
   "execution_count": null,
   "metadata": {
    "collapsed": false
   },
   "outputs": [],
   "source": [
    "# The top level census object\n",
    "cen?"
   ]
  },
  {
   "cell_type": "code",
   "execution_count": null,
   "metadata": {
    "collapsed": true
   },
   "outputs": [],
   "source": [
    "# A container of all FirstParties visited in the census\n",
    "cen.first_parties?"
   ]
  },
  {
   "cell_type": "code",
   "execution_count": null,
   "metadata": {
    "collapsed": true
   },
   "outputs": [],
   "source": [
    "# A container of all ThirdParties visited in the census\n",
    "cen.third_parties?"
   ]
  },
  {
   "cell_type": "code",
   "execution_count": null,
   "metadata": {
    "collapsed": true
   },
   "outputs": [],
   "source": [
    "# A particular FirstParty visited in the census \n",
    "nytimes = cen.first_parties['nytimes.com']\n",
    "nytimes?"
   ]
  },
  {
   "cell_type": "code",
   "execution_count": null,
   "metadata": {
    "collapsed": false
   },
   "outputs": [],
   "source": [
    "# A container of ThirdParties found on a particular FirstParty\n",
    "nytimes_tps = cen.first_parties['nytimes.com'].third_parties\n",
    "nytimes_tps?"
   ]
  },
  {
   "cell_type": "code",
   "execution_count": null,
   "metadata": {
    "collapsed": false
   },
   "outputs": [],
   "source": [
    "# A list of instances (URIs) of third parties found on a particular FirstParty\n",
    "nytimes_tp_uris = cen.first_parties['nytimes.com'].third_party_resources\n",
    "single_resource = nytimes_tp_uris[0]\n",
    "single_resource?"
   ]
  },
  {
   "cell_type": "code",
   "execution_count": null,
   "metadata": {
    "collapsed": false
   },
   "outputs": [],
   "source": [
    "# A particular ThirdParty observed in the census\n",
    "optimizely = cen.third_parties['optimizely.com']\n",
    "optimizely?"
   ]
  },
  {
   "cell_type": "code",
   "execution_count": null,
   "metadata": {
    "collapsed": false
   },
   "outputs": [],
   "source": [
    "# A container of FirstParties that have a particular ThirdParty\n",
    "optimizely_org = cen.third_parties['optimizely.com'].organization\n",
    "optimizely_org?"
   ]
  },
  {
   "cell_type": "code",
   "execution_count": null,
   "metadata": {
    "collapsed": false
   },
   "outputs": [],
   "source": [
    "# Third party cookies\n",
    "optimizely = cen.third_parties['optimizely.com']\n",
    "optimizely_cookie = optimizely.cookies[0]\n",
    "optimizely_cookie?"
   ]
  },
  {
   "cell_type": "markdown",
   "metadata": {},
   "source": [
    "### Example: A FirstParty summary report"
   ]
  },
  {
   "cell_type": "code",
   "execution_count": null,
   "metadata": {
    "collapsed": false
   },
   "outputs": [],
   "source": [
    "cnn = cen.first_parties['cnn.com']\n",
    "cnn.summary_report"
   ]
  },
  {
   "cell_type": "markdown",
   "metadata": {},
   "source": [
    "### Example: A ThirdParty summary report"
   ]
  },
  {
   "cell_type": "code",
   "execution_count": null,
   "metadata": {
    "collapsed": false
   },
   "outputs": [],
   "source": [
    "demdex = cen.third_parties['demdex.net']\n",
    "demdex.summary_report"
   ]
  },
  {
   "cell_type": "markdown",
   "metadata": {},
   "source": [
    "### Example: The average number of third party domains by Alexa category"
   ]
  },
  {
   "cell_type": "code",
   "execution_count": null,
   "metadata": {
    "collapsed": false,
    "scrolled": false
   },
   "outputs": [],
   "source": [
    "# Approx. 10-15 seconds to run.\n",
    "import seaborn as sns\n",
    "res = dict()\n",
    "for category in cen.first_parties.alexa_categories:\n",
    "    avg = sum(len(set(tp.domain for tp in fp.third_party_resources))\n",
    "              for fp in cen.first_parties.alexa_categories[category][:100]) / 100\n",
    "    \n",
    "    print(\"Average number of third party domains on \" + category + \" sites: \" + str(avg))\n",
    "    res[category] = avg\n",
    "res = sorted(res.items(), key=lambda x: x[1])\n",
    "sns.set_style('darkgrid')\n",
    "sns.set_color_codes('muted')\n",
    "bar_plot = sns.barplot(x=[c[0] for c in res], y=[c[1] for c in res], color='b')\n",
    "plt.xticks(rotation=90)\n",
    "plt.subplots_adjust(bottom=.3)"
   ]
  },
  {
   "cell_type": "markdown",
   "metadata": {},
   "source": [
    "### Example: Top organizations present on a sample of first parties"
   ]
  },
  {
   "cell_type": "code",
   "execution_count": null,
   "metadata": {
    "collapsed": false,
    "scrolled": false
   },
   "outputs": [],
   "source": [
    "# Approx. 10-15 seconds to run\n",
    "import random\n",
    "from collections import Counter\n",
    "\n",
    "# Get sample_size sites from top_n sites\n",
    "sample_size = 500\n",
    "top_n = 10000\n",
    "sample = random.sample([x for x in cen.first_parties[:top_n]], sample_size)\n",
    "\n",
    "# Count occurrences of an organization across first parties in sample\n",
    "res = Counter()\n",
    "for first_party in sample:\n",
    "    res.update(set(tp.organization.name for tp in first_party.third_parties))\n",
    "\n",
    "# Draw graph\n",
    "res = sorted(res.items(), key=lambda x: x[1], reverse=True)[:30]\n",
    "sns.set_style('darkgrid')\n",
    "sns.set_color_codes('muted')\n",
    "bar_plot = sns.barplot(x=[c[0] for c in res], y=[c[1] for c in res], color='b')\n",
    "plt.xticks(rotation=90)\n",
    "plt.subplots_adjust(bottom=.3)"
   ]
  },
  {
   "cell_type": "markdown",
   "metadata": {},
   "source": [
    "### Example: The average number of trackers on the top 100 first parties"
   ]
  },
  {
   "cell_type": "code",
   "execution_count": null,
   "metadata": {
    "collapsed": false
   },
   "outputs": [],
   "source": [
    "top_n = 100\n",
    "avg = len([tp for fp in cen.first_parties[:top_n] for tp in fp.third_party_resources if tp.is_tracker]) / top_n\n",
    "avg"
   ]
  },
  {
   "cell_type": "markdown",
   "metadata": {},
   "source": [
    "# Play with the interface below!"
   ]
  },
  {
   "cell_type": "code",
   "execution_count": null,
   "metadata": {
    "collapsed": true
   },
   "outputs": [],
   "source": [
    "cen"
   ]
  }
 ],
 "metadata": {
  "kernelspec": {
   "display_name": "Python 3",
   "language": "python",
   "name": "python3"
  },
  "language_info": {
   "codemirror_mode": {
    "name": "ipython",
    "version": 3
   },
   "file_extension": ".py",
   "mimetype": "text/x-python",
   "name": "python",
   "nbconvert_exporter": "python",
   "pygments_lexer": "ipython3",
   "version": "3.5.2"
  }
 },
 "nbformat": 4,
 "nbformat_minor": 2
}
