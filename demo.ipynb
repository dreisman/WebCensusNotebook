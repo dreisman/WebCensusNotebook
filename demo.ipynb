{
 "cells": [
  {
   "cell_type": "markdown",
   "metadata": {},
   "source": [
    "# Princeton Web Census Interface\n",
    "## About\n",
    "This jupyter notebook provides a demo for interacting with data from the Princeton Web Census.\n",
    "\n",
    "The code relies on our utilities located in the censuslib/ directory, which you can use for your own experiments.\n",
    "\n",
    "Each 'cell' in this notebook represents a different capability of our census interface. Each can be executed separately from the others, but first you must start with the following instructions...\n",
    "\n",
    "\n",
    "## Getting started with the Web Census data:\n",
    "\n",
    "Run the cell below to create a `Census` object, which encapsulates a connection to our PostgreSQL crawl database. This object provides the interface to interact with web census data — some examples of what you can do are located in the cells in the rest of this notebook\n",
    "\n",
    "(*Note*: the keyboard shortcut to run a cell is shift+enter!)\n",
    "\n",
    "Our  available census crawls are:\n",
    "* \"census_2016_08_25k_id_detection_1\" : A crawl of the top 25k sites, with browser state (cookies, localstorage, etc.) maintained between each site visit\n",
    "\n"
   ]
  },
  {
   "cell_type": "code",
   "execution_count": 1,
   "metadata": {
    "collapsed": false,
    "scrolled": true
   },
   "outputs": [],
   "source": [
    "import sys\n",
    "import os\n",
    "sys.path.append(os.path.realpath('censuslib'))\n",
    "from censuslib import census\n",
    "from censuslib import utils\n",
    "from collections import defaultdict\n",
    "import psycopg2\n",
    "import csv\n",
    "import re\n",
    "import dill\n",
    "\n",
    "# Note: If you'd like to access one of our other databases, replace census_name\n",
    "# with one of our other available crawls listed above\n",
    "census_name = 'census_2016_08_25k_id_detection_1'\n",
    "\n",
    "# the 'small_crawl' Census object provides the interface for interacting with\n",
    "# census data\n",
    "small_crawl = census.Census(census_name)"
   ]
  },
  {
   "cell_type": "markdown",
   "metadata": {},
   "source": [
    "# Example API"
   ]
  },
  {
   "cell_type": "markdown",
   "metadata": {},
   "source": [
    "## Check to see that a given top_url is present in the dataset\n",
    "All data in the census is keyed by each 'top_url' visited. Each top_url follows the format:  \n",
    "\n",
    "`http://example.com`  \n",
    "\n",
    "There is never a leading '`www.`', nor is the scheme ever '`https://`'. If a site redirects to https, that will be reflected in the crawl's data."
   ]
  },
  {
   "cell_type": "code",
   "execution_count": 2,
   "metadata": {
    "collapsed": false
   },
   "outputs": [
    {
     "name": "stdout",
     "output_type": "stream",
     "text": [
      "True\n",
      "False\n"
     ]
    }
   ],
   "source": [
    "top_url = 'http://netflix.com'\n",
    "print(small_crawl.check_top_url(top_url))\n",
    "\n",
    "top_url = 'http://notincensus.com'\n",
    "print(small_crawl.check_top_url(top_url))\n"
   ]
  },
  {
   "cell_type": "markdown",
   "metadata": {},
   "source": [
    "## Get all third party trackers on a site\n",
    "`census.get_all_third_party_trackers_by_site(top_url)` returns a list of third party resources loaded on the site's landing page (top_url) that were identified to be trackers.\n",
    "\n",
    "To determine if a URL is a tracker, we check the URL against two blocklists: the EasyList filter list, and the EasyPrivacy filter list, both provided by the [EasyList](https://easylist.to/) community. The EasyList filters identify resources that are used in advertising and is a popular list used by adblockers. The EasyPrivacy filters identify additional resource used in tracking."
   ]
  },
  {
   "cell_type": "code",
   "execution_count": 2,
   "metadata": {
    "collapsed": false,
    "scrolled": true
   },
   "outputs": [
    {
     "data": {
      "text/plain": [
       "['https://secure.flashtalking.com/60567/1514136/index.html',\n",
       " 'http://secure-us.imrworldwide.com/v60.js',\n",
       " 'https://api.b2c.com/api/x.gif?6YZ70DKacMoGUImj$1$0$1$aGlkZGVuJDM4NiQwIiwidmlzaWJpbGl0eVN0YXRlJDM4NiR2aXNpYmxl',\n",
       " 'https://servedby.flashtalking.com/imp/3/66445;2026316;201;js;ESPN;ESPN822Frontpage300x2501x1/?ftx=&fty=&ftadz=&ftscw=&ft_custom=&ftOBA=1&ft_ifb=1&ft_domain=www.espn.com&ft_agentEnv=0&ft_referrer=http%3A%2F%2Fwww.espn.com%2F&cachebuster=56889.738378637754',\n",
       " 'http://log.espn.com/log?srvc=sz&a=100&silent=1&goto=https://securepubads.g.doubleclick.net/pcs/view?xai=AKAOjssd7Kx4b7gOyaBaCbWav3a2a0r_WUuSIu5UO6VpsokP6kEwKhZWqh37syHteODBSwkV-D3HSxMKwYg4YFt_pQDWFdRxAeBMSNoZOF9MOLQdhwTkeIfh8Un1eDU2vr2e0LcdBTPZ-eztVySRlILHklXTrrya5yb2vqYKIW0bQ-_3lbmhmpFHiwFYlNoJZL1H65ENlMDz0AIK-5YCacQFTc_yBzBh1QgpBSr1zccJM7nhwCnPNSuxFB5FHw&sig=Cg0ArKJSzDIiZ8QDrmFTEAE&urlfix=1&adurl=http://a.espncdn.com/ad/blank.gif',\n",
       " 'http://zn_4slwdofs4ykbmhc-espn.siteintercept.qualtrics.com/WRSiteInterceptEngine/?Q_SIID=SI_9EvK9r52GPmgW9v&Q_LOC=http%3A%2F%2Fwww.espn.com%2F&t=1471895204126',\n",
       " 'https://secure.flashtalking.com/60567/1514136/manifest.js',\n",
       " 'http://pagead2.googlesyndication.com/activeview?avi=B9gIMj1a7V-CdHc6V3AHY5aW4DQAAAAAQATgByAEJwAIC4AIA4AQBoAYW&cid=CAASFeRoP0gZLoy42SA-n3lfDpS1dwKbzQ&id=osdim&ti=1&adk=1520060612&p=1,0,1,0&tos=0,0,0,0,0&mtos=0,0,0,0,0&rs=3&ht=0&mc=0&lte=-1&bas=0&bac=0&fp=correlator%3D3524041284612949%26eid%3D108809080%252C108809112%26iu%3D%252F6444%252Fespn.com%252Ffrontpage%252Findex%26oid%3D3%26url%3Dhttp%253A%252F%252Fwww.espn.com%252F&afp=%26output%3Djson_html%26impl%3Dfif%26dt%3D1471895182957%26adx%3D35%26ady%3D128%26ifi%3D7%26flash%3D11.2.202&r=u&bs=1350,697&bos=1366,768&ps=1350,10639&ss=1366,768&tt=16471&pt=-1&deb=1-0-3-25-18--1&tvt=9101&uc=1&tgt=nf&cl=0',\n",
       " 'https://cdn.flashtalking.com/xre/202/2026316/1514136/js/j-2026316-1514136.js',\n",
       " 'https://servedby.flashtalking.com/imp/3/66445;2026317;201;js;ESPN;ESPN822Frontpage1280x1001x1/?ftx=&fty=&ftadz=&ftscw=&ft_custom=&ftOBA=1&ft_agentEnv=0&ft_referrer=http%3A%2F%2Fwww.espn.com%2F&cachebuster=59005.921473366805',\n",
       " 'http://cdn.mxpnl.com/libs/mixpanel-2-latest.min.js',\n",
       " 'https://tags.bluekai.com/site/24667?ret=html&phint=pageName%3Despn%3Afrontpage&phint=channel%3Despn%3Afrontpage&phint=eVar34%3D&phint=events%3Devent3&phint=prop1%3Despn&phint=swid%3D7CBEF5E8-D339-418F-8AFE-7C86246928D4&phint=prop4%3Dindex&phint=prop9%3D&phint=prop23%3D&phint=prop25%3D&phint=prop26%3D&phint=prop30%3Dpremium-no&phint=prop32%3D&phint=prop45%3D&phint=__bk_t%3DESPN%3A%20The%20Worldwide%20Leader%20in%20Sports&phint=__bk_k%3DESPN.com%2C%20ESPN%2C%20ESPN2%2C%20ESPNews%2C%20ESPN%20Classic%2C%20ESPNU%2C%20Insider%2C%20sports%20scores%2C%20sports%20news%2C%20MLB%20scores%2C%20NFL%20scores%2C%20NBA%20scores%2C%20NHL%20scores%2C%20College%20Football%20scores%2C%20College%20Basketball%20scores%2C%20sports%20videos%2C%20sports%20information%2C%20Fantasy%20sports%2C%20Fantasy%20games%2C%20Fantasy%20football%2C%20Fantasy%20baseball&phint=__bk_l%3Dhttp%3A%2F%2Fwww.espn.com%2F&limit=10&bknms=ver=2.0,ua=ea735355e605733a409b37590783ac9e,t=1471895205445,m=b4f1cdc93155d004b7cb389463c34258,k=1,lang=07ef608d8a7e9677f0b83775f0b83775,sr=1366x768x24,tzo=0,hss=true,hls=true,idb=true,addb=undefined,odb=undefined,cpu=4b4e4ecaab1f1c93ab1f1c93ab1f1c93,platform=1c17637dbf2f8edebf2f8edebf2f8ede,notrack=,plugins=b6ee12c3fe64a0c705ef3fc53ef7abf6,cn=ba6ad83b425c0dc62b05ec753362f24a&r=9196767',\n",
       " 'https://s1.2mdn.net/viewad/3791772/1-1x1.png',\n",
       " 'http://api.mixpanel.com/track/?data=eyJldmVudCI6ICJQYWdlIFZpZXciLCJwcm9wZXJ0aWVzIjogeyIkb3MiOiAiTGludXgiLCIkYnJvd3NlciI6ICJGaXJlZm94IiwiJGN1cnJlbnRfdXJsIjogImh0dHA6Ly93d3cuZXNwbi5jb20vIiwiJGJyb3dzZXJfdmVyc2lvbiI6IDQ1LCIkc2NyZWVuX2hlaWdodCI6IDc2OCwiJHNjcmVlbl93aWR0aCI6IDEzNjYsIm1wX2xpYiI6ICJ3ZWIiLCIkbGliX3ZlcnNpb24iOiAiMi45LjEyIiwiZGlzdGluY3RfaWQiOiAiN0NCRUY1RTgtRDMzOS00MThGLThBRkUtN0M4NjI0NjkyOEQ0IiwiJGluaXRpYWxfcmVmZXJyZXIiOiAiJGRpcmVjdCIsIiRpbml0aWFsX3JlZmVycmluZ19kb21haW4iOiAiJGRpcmVjdCIsIlNXSUQiOiAiN0NCRUY1RTgtRDMzOS00MThGLThBRkUtN0M4NjI0NjkyOEQ0IiwiSGFzIEZhdm9yaXRlcyI6ICJGQUxTRSIsIkluc2lkZXIiOiAiRkFMU0UiLCJGYW50YXN5IFBsYXllciI6ICJGQUxTRSIsIlVzZXIgVGltZSBab25lIjogIlVUQyIsIlVzZXIgQXV0by1QbGF5IFNldHRpbmciOiAiT24iLCJFZGl0aW9uIE5hbWUiOiAiRW5nbGlzaCAvIFVuaXRlZCBTdGF0ZXMiLCJTcG9ydC9MZWFndWUiOiAiSG9tZSBQYWdlIiwiVVJMIjogImh0dHA6Ly93d3cuZXNwbi5jb20vIiwiUGFnZSBUeXBlIjogIkhvbWUgUGFnZSIsIlVzZXIgRGV2aWNlIExvY2FsIFRpbWUiOiAiMTk6NDY6NDMiLCJTY3JvbGwgRGVwdGgiOiAxLCJ0b2tlbiI6ICI2YjM0N2MzOWYwZjU3MDY3YTM2YWNjNmFhNjAwYTA5NCIsIiRkdXJhdGlvbiI6IDE0LjY1LCIkX19jIjogMH19&ip=1&_=1471895203395',\n",
       " 'http://secure-us.imrworldwide.com/storageframe.html',\n",
       " 'http://w88.espn.com/b/ss/wdgespcom,wdgespge/1/JS-1.6.1/s67821902189054?AQB=1&ndh=1&pf=1&t=22%2F7%2F2016%2019%3A46%3A33%201%200&mid=65899736088933747663688524644922812079&aid=2BDD99E40507A136-6000010AA0320AFE&aamlh=7&ce=ISO-8859-1&ns=espn&cdp=2&pageName=espn%3Afrontpage&g=http%3A%2F%2Fwww.espn.com%2F&cc=USD&ch=espn%3Afrontpage&server=www.espn.com&events=event3&aamb=NRX38WO0n5BH8Th-nqAG_A&c1=espn&h1=espn%3Afrontpage&c2=D%3DSWID&c4=index&c5=espn%3Afrontpage&c6=Repeat&v7=unknown%3Aunknown%3Aanonymous%3Ainsider-no%3Apremium-no&v9=en_us&c11=insider-no%3Apremium-no&v11=index%3Aespn%3Afrontpage&v12=en-us&v13=espn%3Afrontpage&c16=en-us&c17=en_us&c21=unknown&c22=unknown&v23=unknown&c24=Less%20than%201%20day&c29=anonymous&c30=premium-no&c38=Desktop&v38=Desktop&s=1366x768&c=24&j=1.8.5&v=N&k=Y&bw=1366&bh=697&AQE=1',\n",
       " 'https://cdn.flashtalking.com/xre/202/2026317/1514139/js/j-2026317-1514139.js',\n",
       " 'https://api.b2c.com/api/x.gif?rhrAJkh9dwV0wGAn$3$0$1$dmlzaWJpbGl0eWNoYW5nZSQyMjIzNCQx',\n",
       " 'http://api.mixpanel.com/decide/?verbose=1&version=1&lib=web&token=6b347c39f0f57067a36acc6aa600a094&ip=1&_=1471895188732',\n",
       " 'https://api.b2c.com/api/x.gif?6YZ70DKacMoGUImj$2$0$1$Y2xvY2skMzgzJDYwODAiLCJzb3J0JDY2MCQxNDMuMzAwMDAwMDAwMDAxMW1z',\n",
       " 'https://securepubads.g.doubleclick.net/pcs/view?xai=AKAOjssd7Kx4b7gOyaBaCbWav3a2a0r_WUuSIu5UO6VpsokP6kEwKhZWqh37syHteODBSwkV-D3HSxMKwYg4YFt_pQDWFdRxAeBMSNoZOF9MOLQdhwTkeIfh8Un1eDU2vr2e0LcdBTPZ-eztVySRlILHklXTrrya5yb2vqYKIW0bQ-_3lbmhmpFHiwFYlNoJZL1H65ENlMDz0AIK-5YCacQFTc_yBzBh1QgpBSr1zccJM7nhwCnPNSuxFB5FHw&sig=Cg0ArKJSzDIiZ8QDrmFTEAE&urlfix=1&adurl=http://a.espncdn.com/ad/blank.gif',\n",
       " 'http://pagead2.googlesyndication.com/activeview?avi=Bd4lRjFa7V4iUHq31zgWXzI_QDAAAAAAQATgByAEJwAIC4AIA4AQBoAYg&cid=CAASFeRoQr9NaqPfM11h_6DBPN8oMI935w&id=osdim&ti=1&adk=3636484450&p=1,0,1,0&tos=0,0,0,0,0&mtos=0,0,0,0,0&rs=3&ht=0&mc=0&lte=-1&bas=0&bac=0&fp=correlator%3D3524041284612949%26eid%3D108809080%252C108809112%26iu%3D%252F6444%252Fespn.com%252Ffrontpage%252Findex%26oid%3D3%26url%3Dhttp%253A%252F%252Fwww.espn.com%252F&afp=%26output%3Djson_html%26impl%3Dfif%26dt%3D1471895180245%26adx%3D0%26ady%3D0%26ifi%3D3%26flash%3D11.2.202&r=u&bs=1350,697&bos=1366,768&ps=1350,10639&ss=1366,768&tt=7837&pt=-1&deb=1-0-3-1-2--1&tvt=467&uc=1&tgt=nf&cl=0',\n",
       " 'https://api.b2c.com/api/adblock.js',\n",
       " 'http://b.scorecardresearch.com/beacon.js',\n",
       " 'https://api.b2c.com/api/x.gif?6YZ70DKacMoGUImj$4$0$1$dmlzaWJpbGl0eWNoYW5nZSQyMzc4MSQx',\n",
       " 'http://secure-us.imrworldwide.com/cgi-bin/m?rnd=1471895191585&ci=us-903969h&js=1&cg=0&ts=v60.js&vn=6.0.47&cc=1&cd=24&ck=y&je=n&lg=en-US&si=http%3A//www.espn.com/&sr=1366x768&id=lstrg-55823ea025bb450ff379f9fec9c93f03',\n",
       " 'http://dpm.demdex.net/id?d_visid_ver=1.5.6&d_rtbd=json&d_ver=2&d_orgid=EE0201AC512D2BE80A490D4C%40AdobeOrg&d_nsid=0&d_mid=65899736088933747663688524644922812079&d_blob=NRX38WO0n5BH8Th-nqAG_A&d_cid_ic=AVID%012BDD99E40507A136-6000010AA0320AFE&d_cb=s_c_il%5B0%5D._setMarketingCloudFields',\n",
       " 'http://pagead2.googlesyndication.com/activeview?avi=BqKsEj1a7V-KdHc6V3AHY5aW4DQAAAAAQATgByAEJwAIC4AIA4AQBoAYW&cid=CAASFeRodQJqwkB5Hn6KIQgTvx4P4AIePQ&id=osdim&ti=1&adk=47134433&p=602,985,852,1285&tos=0,0,0,15635,0&mtos=0,0,0,14852,14852&rs=3&ht=0&tfs=17698&tls=33735&mc=0.38&lte=0.38&bas=0&bac=1&fp=correlator%3D3524041284612949%26eid%3D108809080%252C108809112%26iu%3D%252F6444%252Fespn.com%252Ffrontpage%252Findex%26oid%3D3%26url%3Dhttp%253A%252F%252Fwww.espn.com%252F&afp=%26output%3Djson_html%26impl%3Dfif%26dt%3D1471895182972%26adx%3D985%26ady%3D662%26ifi%3D9%26flash%3D11.2.202&r=u&bs=1350,697&bos=1366,768&ps=1350,10639&ss=1366,768&tt=15541&pt=18194&deb=1-3-3-47-47-27&tvt=25963&uc=23&tgt=IFRAME&cl=1',\n",
       " 'http://api.mixpanel.com/decide/?verbose=1&version=1&lib=web&token=6b347c39f0f57067a36acc6aa600a094&distinct_id=7CBEF5E8-D339-418F-8AFE-7C86246928D4&ip=1&_=1471895203133',\n",
       " 'https://secure.flashtalking.com/60567/1514136/IMG_300x250.jpg',\n",
       " 'https://api.b2c.com/api/init-153f9xt7q8umoup4ywp.js',\n",
       " 'http://api.mixpanel.com/track/?data=eyJldmVudCI6ICJtcF9wYWdlX3ZpZXciLCJwcm9wZXJ0aWVzIjogeyIkb3MiOiAiTGludXgiLCIkYnJvd3NlciI6ICJGaXJlZm94IiwiJGN1cnJlbnRfdXJsIjogImh0dHA6Ly93d3cuZXNwbi5jb20vIiwiJGJyb3dzZXJfdmVyc2lvbiI6IDQ1LCIkc2NyZWVuX2hlaWdodCI6IDc2OCwiJHNjcmVlbl93aWR0aCI6IDEzNjYsIm1wX2xpYiI6ICJ3ZWIiLCIkbGliX3ZlcnNpb24iOiAiMi45LjEyIiwiZGlzdGluY3RfaWQiOiAiN0NCRUY1RTgtRDMzOS00MThGLThBRkUtN0M4NjI0NjkyOEQ0IiwiJGluaXRpYWxfcmVmZXJyZXIiOiAiJGRpcmVjdCIsIiRpbml0aWFsX3JlZmVycmluZ19kb21haW4iOiAiJGRpcmVjdCIsIlNXSUQiOiAiN0NCRUY1RTgtRDMzOS00MThGLThBRkUtN0M4NjI0NjkyOEQ0IiwiSGFzIEZhdm9yaXRlcyI6ICJGQUxTRSIsIkluc2lkZXIiOiAiRkFMU0UiLCJGYW50YXN5IFBsYXllciI6ICJGQUxTRSIsIlVzZXIgVGltZSBab25lIjogIlVUQyIsIlVzZXIgQXV0by1QbGF5IFNldHRpbmciOiAiT24iLCJtcF9wYWdlIjogImh0dHA6Ly93d3cuZXNwbi5jb20vIiwibXBfYnJvd3NlciI6ICJGaXJlZm94IiwibXBfcGxhdGZvcm0iOiAiTGludXgiLCJ0b2tlbiI6ICI2YjM0N2MzOWYwZjU3MDY3YTM2YWNjNmFhNjAwYTA5NCJ9fQ%3D%3D&ip=1&_=1471895188741',\n",
       " 'https://a248.e.akamai.net/f/12/621/60d/a.espncdn.com/ad/doubleclick/hanfordCap.js',\n",
       " 'https://secure.flashtalking.com/frameworks/js/api/2/10/html5API.js',\n",
       " 'https://secure.flashtalking.com/60567/1514139/img/button_light_collapse.png',\n",
       " 'https://tags.bkrtx.com/js/bk-coretag.js',\n",
       " 'https://api.b2c.com/api/x.gif?6YZ70DKacMoGUImj$0$0$1$ZnJhbWUkMzIkMSIsInZlbmRvciQ0NSQiLCJ3ZWJnbCQyMzckMSIsInJlZmVycmVyJDEyJCIsImlubmVyJDM5JDB4MCIsIndpbmRvdyQzOSQweDAiLCJ2ZW5kb3JTdWIkNDUkIiwidGltZXpvbmUkMjM3JDAiLCJmb250cmVuZGVyJDI1JDAiLCJwcm9kdWN0JDQ0JEdlY2tvIiwib3V0ZXIkMzkkMTM2Nng3NjgiLCJsYW5ndWFnZSQ0NCRlbi1VUyIsImFwcE5hbWUkNDAkTmV0c2NhcGUiLCJ2aWRlbyQxMiQxMzY2eDc2OHgyNCIsImxvY2FsU3RvcmFnZSQzOSR0cnVlIiwicGx1Z2lucyQyNjgkYjhiMTNjOWQiLCJnbG9iYWxzJDM3NCQ3ZTYzOWNhMyIsImNvb2tpZUVuYWJsZWQkNDQkdHJ1ZSIsImdsb2JhbHMtdGltZSQzNzIkMC42OSIsImRvY3VtZW50JDM4MCQwYTg4Njc3OSIsInNlc3Npb25TdG9yYWdlJDM5JHRydWUiLCJhcHBDb2RlTmFtZSQ0MCRNb3ppbGxhIiwicHJvZHVjdFN1YiQ0NSQyMDEwMDEwMSIsInRpbWUkMjM3JDE0NzE4OTUxOTU0MTgiLCJwbHVnaW5zLXRpbWUkMjY1JDExLjEyIiwidGltZS1yZWRpcmVjdEVuZCQyNzIkMCIsInRpbWUtZG9tQ29tcGxldGUkMjgyJDAiLCJkb2N1bWVudC10aW1lJDM3OCQwLjE5IiwiYXBwVmVyc2lvbiQ0NCQ1LjAgKFgxMSkiLCJ0aW1lLWZldGNoU3RhcnQkMjcyJDBtcyIsInRpbWUtY29ubmVjdEVuZCQyNzMkMG1zIiwidGltZS1sb2FkRXZlbnRFbmQkMjgyJDAiLCJwbGF0Zm9ybSQ0NCRMaW51eCB4ODZfNjQiLCJ0aW1lLXJlZGlyZWN0U3RhcnQkMjcyJDAiLCJ0aW1lLXJlc3BvbnNlRW5kJDI3MyQwbXMiLCJkb05vdFRyYWNrJDQ0JHVuc3BlY2lmaWVkIiwidGltZS11bmxvYWRFdmVudEVuZCQyNzIkMCIsInRpbWUtY29ubmVjdFN0YXJ0JDI3MiQwbXMiLCJ0aW1lLXJlcXVlc3RTdGFydCQyNzMkMG1zIiwidGltZS1sb2FkRXZlbnRTdGFydCQyODIkMCIsInVybCQwJGh0dHA6Ly93d3cuZXNwbi5jb20vIiwidGltZS1yZXNwb25zZVN0YXJ0JDI3MyQwbXMiLCJ0aW1lLWRvbUxvYWRpbmckMjczJDI0MDJtcyIsInRpbWUtdW5sb2FkRXZlbnRTdGFydCQyNjkkMCIsInRpbWUtZG9tYWluTG9va3VwRW5kJDI3MiQwbXMiLCJuYXZpZ2F0aW9uLXR5cGUkMjgzJG5hdmlnYXRlIiwidGltZS1kb21haW5Mb29rdXBTdGFydCQyNzIkMG1zIiwidGltZS1kb21JbnRlcmFjdGl2ZSQyNzMkMzQ1Mm1zIiwibmF2aWdhdGlvbi1yZWRpcmVjdENvdW50JDI4MyQwIiwidGltZS1kb21Db250ZW50TG9hZGVkRXZlbnRFbmQkMjgyJDU0MTNtcyIsInRpbWUtZG9tQ29udGVudExvYWRlZEV2ZW50U3RhcnQkMjgyJDU0MDJtcyIsInVzZXJBZ2VudCQ0NSRNb3ppbGxhLzUuMCAoWDExOyBMaW51eCB4ODZfNjQ7IHJ2OjQ1LjApIEdlY2tvLzIwMTAwMTAxIEZpcmVmb3gvNDUuMA',\n",
       " 'https://api.b2c.com/api/x.gif?6YZ70DKacMoGUImj$3$0$1$YWRibG9jayQxNjUxJDE',\n",
       " 'https://secure.flashtalking.com/60567/1514139/manifest.js',\n",
       " 'https://tpc.googlesyndication.com/safeframe/1-0-4/js/ext.js',\n",
       " 'https://secure.flashtalking.com/60567/1514139/index.html',\n",
       " 'https://api.b2c.com/api/x.gif?rhrAJkh9dwV0wGAn$1$0$1$aGlkZGVuJDEwMCQwIiwidmlzaWJpbGl0eVN0YXRlJDEwMCR2aXNpYmxl',\n",
       " 'https://api.b2c.com/api/x.gif?rhrAJkh9dwV0wGAn$2$0$1$Y2xvY2skOTkkMTEyNCIsImFkYmxvY2skMTU3NSQxIiwiZnJhbWVyYXRlJDEzNjkkMiIsInNvcnQkMTEyOCQ3NDcuNzI1MDAwMDAwMDAwNG1z',\n",
       " 'http://api.mixpanel.com/track/?data=eyJldmVudCI6ICJFeGl0IiwicHJvcGVydGllcyI6IHsiJG9zIjogIkxpbnV4IiwiJGJyb3dzZXIiOiAiRmlyZWZveCIsIiRjdXJyZW50X3VybCI6ICJodHRwOi8vd3d3LmVzcG4uY29tLyIsIiRicm93c2VyX3ZlcnNpb24iOiA0NSwiJHNjcmVlbl9oZWlnaHQiOiA3NjgsIiRzY3JlZW5fd2lkdGgiOiAxMzY2LCJtcF9saWIiOiAid2ViIiwiJGxpYl92ZXJzaW9uIjogIjIuOS4xMiIsImRpc3RpbmN0X2lkIjogIjdDQkVGNUU4LUQzMzktNDE4Ri04QUZFLTdDODYyNDY5MjhENCIsIiRpbml0aWFsX3JlZmVycmVyIjogIiRkaXJlY3QiLCIkaW5pdGlhbF9yZWZlcnJpbmdfZG9tYWluIjogIiRkaXJlY3QiLCJTV0lEIjogIjdDQkVGNUU4LUQzMzktNDE4Ri04QUZFLTdDODYyNDY5MjhENCIsIkhhcyBGYXZvcml0ZXMiOiAiRkFMU0UiLCJJbnNpZGVyIjogIkZBTFNFIiwiRmFudGFzeSBQbGF5ZXIiOiAiRkFMU0UiLCJVc2VyIFRpbWUgWm9uZSI6ICJVVEMiLCJVc2VyIEF1dG8tUGxheSBTZXR0aW5nIjogIk9uIiwiRWRpdGlvbiBOYW1lIjogIkVuZ2xpc2ggLyBVbml0ZWQgU3RhdGVzIiwiU3BvcnQvTGVhZ3VlIjogIkhvbWUgUGFnZSIsIlVSTCI6ICJodHRwOi8vd3d3LmVzcG4uY29tLyIsIlBhZ2UgVHlwZSI6ICJIb21lIFBhZ2UiLCJVc2VyIERldmljZSBMb2NhbCBUaW1lIjogIjE5OjQ3OjAwIiwiU2Nyb2xsIERlcHRoIjogMCwidG9rZW4iOiAiNmIzNDdjMzlmMGY1NzA2N2EzNmFjYzZhYTYwMGEwOTQiLCIkZHVyYXRpb24iOiAxNC42NSwiU2Vzc2lvbiBUaW1lIjogIjAwOjAwOjE3IiwiTGFzdCBFdmVudCBQYWdlIFR5cGUiOiAiSG9tZSBQYWdlIiwiTGFzdCBFdmVudCI6ICJQYWdlIFZpZXciLCJMYXN0IEV2ZW50IERhdGUiOiAiMDgvMjIvMjAxNiIsIkxhc3QgRXZlbnQgVGltZSI6ICIxOTo0NiIsIiRfX2MiOiAwfX0%3D&ip=1&_=1471895220436',\n",
       " 'https://securepubads.g.doubleclick.net/gampad/ads?gdfp_req=1&correlator=2926946191198296&output=json_html&callback=callbackProxy&impl=fifs&json_a=1&eid=108809080%2C108809112&sc=0&sfv=1-0-4&iu_parts=6444%2Cespn.com%2Cfrontpage%2Cindex&enc_prev_ius=%2F0%2F1%2F2%2F3%2C%2F0%2F1%2F2%2F3%2C%2F0%2F1%2F2%2F3%2C%2F0%2F1%2F2%2F3%2C%2F0%2F1%2F2%2F3&prev_iu_szs=1x2%2C1680x1050%2C1280x100%2C298x50%2C300x250%7C300x600&rcs=1%2C0%2C0%2C0%2C0&prev_scp=pos%3Dexclusions%7Cpos%3Dwallpaper%7Cpos%3Dbanner%7Cpos%3Dincontentstrip%7Cpos%3Dincontent&eri=1&cust_params=ed%3Dus%26sp%3Despn%26pgtyp%3Despnfrontpage%26swid%3D7CBEF5E8-D339-418F-8AFE-7C86246928D4%26mnr%3Df%26lssegs%3D_aat_%252C_a7r_%252C_a4r_%252C_a4o_%252C_bfv_%252C_bgh_%252C_a4t_%26prof%3Dxl&cookie=ID%3D4869728d23c64021%3AT%3D1471889772%3AS%3DALNI_MZYn5DEI_GiNa-ZxXkuuaNB0JAjag&lmt=1471895182&dt=1471895182919&cc=100&frm=20&biw=1350&bih=697&oid=3&adks=2153864465%2C902339513%2C1520060612%2C1047752966%2C47134433&gut=v2&ifi=4&u_his=1&u_h=768&u_w=1366&u_ah=768&u_aw=1366&u_cd=24&u_nplug=1&u_nmime=2&u_sd=1&flash=11.2.202&url=http%3A%2F%2Fwww.espn.com%2F&dssz=26&icsg=524296&std=16&vrg=94&vrp=94&ga_vid=970975266.1471895180&ga_sid=1471895180&ga_hid=190501460',\n",
       " 'http://a.espncdn.com/ad/doubleclick/ads.js',\n",
       " 'http://a.espncdn.com/ad/blank.gif',\n",
       " 'https://secure.flashtalking.com/60567/1514136/js/MorphSVGPlugin.min.js',\n",
       " 'https://secure.flashtalking.com/60567/1514139/img/logo_2x.png',\n",
       " 'https://api.b2c.com/api/x.gif?rhrAJkh9dwV0wGAn$0$0$1$ZnJhbWUkMiQxIiwidmVuZG9yJDUkIiwid2ViZ2wkMzckMSIsInZlbmRvclN1YiQ2JCIsInRpbWV6b25lJDM4JDAiLCJmb250cmVuZGVyJDIkMSIsImlubmVyJDMkMzAweDI1MCIsInByb2R1Y3QkNSRHZWNrbyIsIndpbmRvdyQyJDMwMHgyNTAiLCJvdXRlciQzJDEzNjZ4NzY4IiwibGFuZ3VhZ2UkNSRlbi1VUyIsImFwcE5hbWUkNCROZXRzY2FwZSIsInZpZGVvJDAkMTM2Nng3Njh4MjQiLCJsb2NhbFN0b3JhZ2UkMyR0cnVlIiwicGx1Z2lucyQzOSRiOGIxM2M5ZCIsImdsb2JhbHMkODkkN2U2MzljYTMiLCJjb29raWVFbmFibGVkJDQkdHJ1ZSIsImdsb2JhbHMtdGltZSQ4MiQwLjcyIiwiZG9jdW1lbnQkOTYkMGE4ODY3NzkiLCJzZXNzaW9uU3RvcmFnZSQzJHRydWUiLCJhcHBDb2RlTmFtZSQ0JE1vemlsbGEiLCJwcm9kdWN0U3ViJDUkMjAxMDAxMDEiLCJ0aW1lJDM4JDE0NzE4OTUxOTY3NjYiLCJwbHVnaW5zLXRpbWUkMzkkMC4yNDUiLCJ0aW1lLXJlZGlyZWN0RW5kJDQwJDAiLCJ0aW1lLWRvbUNvbXBsZXRlJDQxJDAiLCJkb2N1bWVudC10aW1lJDk0JDAuMDYiLCJhcHBWZXJzaW9uJDQkNS4wIChYMTEpIiwidGltZS1mZXRjaFN0YXJ0JDQwJDBtcyIsInRpbWUtY29ubmVjdEVuZCQ0MCQwbXMiLCJ0aW1lLWxvYWRFdmVudEVuZCQ0MSQwIiwicGxhdGZvcm0kNSRMaW51eCB4ODZfNjQiLCJ0aW1lLXJlZGlyZWN0U3RhcnQkNDAkMCIsImRvTm90VHJhY2skNCR1bnNwZWNpZmllZCIsInRpbWUtdW5sb2FkRXZlbnRFbmQkNDAkMCIsInRpbWUtY29ubmVjdFN0YXJ0JDQwJDBtcyIsInRpbWUtcmVxdWVzdFN0YXJ0JDQwJDBtcyIsInRpbWUtbG9hZEV2ZW50U3RhcnQkNDEkMCIsInRpbWUtcmVzcG9uc2VTdGFydCQ0MCQxbXMiLCJ0aW1lLWRvbUxvYWRpbmckNDAkMTA5NW1zIiwidGltZS11bmxvYWRFdmVudFN0YXJ0JDM5JDAiLCJ0aW1lLXJlc3BvbnNlRW5kJDQwJDIxMzRtcyIsInRpbWUtZG9tYWluTG9va3VwRW5kJDQwJDBtcyIsIm5hdmlnYXRpb24tdHlwZSQ0MSRuYXZpZ2F0ZSIsInRpbWUtZG9tYWluTG9va3VwU3RhcnQkNDAkMG1zIiwibmF2aWdhdGlvbi1yZWRpcmVjdENvdW50JDQxJDAiLCJ0aW1lLWRvbUludGVyYWN0aXZlJDQwJDExNTY4bXMiLCJyZWZlcnJlciQwJGh0dHA6Ly93d3cuZXNwbi5jb20vIiwidGltZS1kb21Db250ZW50TG9hZGVkRXZlbnRFbmQkNDEkMCIsInRpbWUtZG9tQ29udGVudExvYWRlZEV2ZW50U3RhcnQkNDEkMCIsInVzZXJBZ2VudCQ1JE1vemlsbGEvNS4wIChYMTE7IExpbnV4IHg4Nl82NDsgcnY6NDUuMCkgR2Vja28vMjAxMDAxMDEgRmlyZWZveC80NS4wIiwidXJsJDAkaHR0cDovL3RwYy5nb29nbGVzeW5kaWNhdGlvbi5jb20vc2FmZWZyYW1lLzEtMC00L2h0bWwvY29udGFpbmVyLmh0bWwjeHBjPXNmLWdkbi1leHAtMSZwPWh0dHAlM0EvL3d3dy5lc3BuLmNvbQ',\n",
       " 'https://secure.flashtalking.com/60567/1514139/js/MorphSVGPlugin.min.js',\n",
       " 'https://securepubads.g.doubleclick.net/gampad/ads?gdfp_req=1&correlator=3524041284612949&output=json_html&callback=callbackProxy&impl=fifs&json_a=1&eid=108809080%2C108809112&sc=0&sfv=1-0-4&iu_parts=6444%2Cespn.com%2Cfrontpage%2Cindex&enc_prev_ius=%2F0%2F1%2F2%2F3%2C%2F0%2F1%2F2%2F3&prev_iu_szs=1x2%2C1x1&ists=1&prev_scp=pos%3Dexclusions%7CslotId%3Dad-slot-overlay-869272%26pos%3Doutofpage&eri=1&cust_params=ed%3Dus%26sp%3Despn%26pgtyp%3Despnfrontpage%26swid%3D7CBEF5E8-D339-418F-8AFE-7C86246928D4%26mnr%3Df%26lssegs%3D_aat_%252C_a7r_%252C_a4r_%252C_a4o_%252C_bfv_%252C_bgh_%252C_a4t_%26prof%3Dxl&cookie=ID%3D4869728d23c64021%3AT%3D1471889772%3AS%3DALNI_MZYn5DEI_GiNa-ZxXkuuaNB0JAjag&lmt=1471895180&dt=1471895180216&cc=100&frm=20&biw=1350&bih=697&oid=3&adks=2153864465%2C3636484450&gut=v2&ifi=1&u_his=1&u_h=768&u_w=1366&u_ah=768&u_aw=1366&u_cd=24&u_nplug=1&u_nmime=2&u_sd=1&flash=11.2.202&url=http%3A%2F%2Fwww.espn.com%2F&dssz=22&icsg=8192&std=9&vrg=94&vrp=94&ga_vid=970975266.1471895180&ga_sid=1471895180&ga_hid=190501460',\n",
       " 'https://secure.flashtalking.com/60567/1514139/img/IMG_1280x100.jpg',\n",
       " 'http://api.mixpanel.com/engage/?data=eyIkc2V0IjogeyIkb3MiOiAiTGludXgiLCIkYnJvd3NlciI6ICJGaXJlZm94IiwiJGJyb3dzZXJfdmVyc2lvbiI6IDQ1LCIkaW5pdGlhbF9yZWZlcnJlciI6ICIkZGlyZWN0IiwiJGluaXRpYWxfcmVmZXJyaW5nX2RvbWFpbiI6ICIkZGlyZWN0IiwiU1dJRCI6ICI3Q0JFRjVFOC1EMzM5LTQxOEYtOEFGRS03Qzg2MjQ2OTI4RDQiLCJIYXMgRmF2b3JpdGVzIjogIkZBTFNFIiwiSW5zaWRlciI6ICJGQUxTRSIsIkZhbnRhc3kgUGxheWVyIjogIkZBTFNFIiwiVXNlciBUaW1lIFpvbmUiOiAiVVRDIiwiVXNlciBBdXRvLVBsYXkgU2V0dGluZyI6ICJPbiJ9LCIkdG9rZW4iOiAiNmIzNDdjMzlmMGY1NzA2N2EzNmFjYzZhYTYwMGEwOTQiLCIkZGlzdGluY3RfaWQiOiAiN0NCRUY1RTgtRDMzOS00MThGLThBRkUtN0M4NjI0NjkyOEQ0In0%3D&ip=1&_=1471895203139',\n",
       " 'https://secure.flashtalking.com/60567/1514139/img/button_light_expand.png']"
      ]
     },
     "execution_count": 2,
     "metadata": {},
     "output_type": "execute_result"
    }
   ],
   "source": [
    "top_url = 'http://espn.go.com'\n",
    "\n",
    "results = small_crawl.get_all_third_party_trackers_by_site('http://espn.go.com')\n",
    "\n",
    "results"
   ]
  },
  {
   "cell_type": "markdown",
   "metadata": {
    "collapsed": false
   },
   "source": [
    "## Get all third party responses on a site\n",
    "For a more comprehensive view of the third party resources on a website, run this cell.\n",
    "\n",
    "`census.get_all_third_party_responses_by_site(top_url)` returns a two-level results dict containing third party urls loaded on the given site's landing page (top_url).\n",
    "\n",
    "The dict's structure is:\n",
    "\n",
    "`dict[third_party_url]['is_tracker']`, contains True if third_party_url is identified on a blocklist.  \n",
    "`dict[third_party_url]['is_js']`, contains True if third_party_url is a script.  \n",
    "`dict[third_party_url]['is_img']`, contains True if third_party_url is an image.  \n",
    "`dict[third_party_url]['url_domain']`, contains the domain of the third party.  \n",
    "\n"
   ]
  },
  {
   "cell_type": "code",
   "execution_count": 5,
   "metadata": {
    "collapsed": false,
    "scrolled": true
   },
   "outputs": [
    {
     "name": "stdout",
     "output_type": "stream",
     "text": [
      "Example of one of the third parties:\n",
      "Third party URI loaded on page: http://a.espncdn.com/combiner/i?img=/i/teamlogos/countries/500/usa.png&h=20&w=20\n",
      "Third party domain: espncdn.com\n",
      "Is it a tracker?: False\n",
      "Is it an image?: True\n",
      "Is it a script?: False\n"
     ]
    }
   ],
   "source": [
    "results = small_crawl.get_all_third_party_responses_by_site('http://espn.go.com')\n",
    "\n",
    "\n",
    "print('Example of one of the third parties:')\n",
    "third_party = results.popitem()\n",
    "\n",
    "print('Third party URI loaded on page: ' + third_party[0])\n",
    "print('Third party domain: ' + third_party[1]['url_domain'])\n",
    "print('Is it a tracker?: ' + str(third_party[1]['is_tracker']))\n",
    "print('Is it an image?: ' + str(third_party[1]['is_img']))\n",
    "print('Is it a script?: ' + str(third_party[1]['is_js']))"
   ]
  },
  {
   "cell_type": "markdown",
   "metadata": {},
   "source": [
    "## Get all third party responses for a list of sites\n",
    "A cell to simplify getting all third party responses for a given list of sites."
   ]
  },
  {
   "cell_type": "code",
   "execution_count": null,
   "metadata": {
    "collapsed": false,
    "scrolled": false
   },
   "outputs": [],
   "source": [
    "sites = ['http://cnn.com', 'http://wsj.com'] # Change me!\n",
    "\n",
    "# Resulting dictionaries\n",
    "tracker_js_by_top = defaultdict(set)\n",
    "tracker_img_by_top = defaultdict(set)\n",
    "non_tracker_js_by_top = defaultdict(set)\n",
    "non_tracker_img_by_top = defaultdict(set)\n",
    "\n",
    "tracker_other_by_top = defaultdict(set)\n",
    "non_tracker_other_by_top = defaultdict(set)\n",
    "for site in sites:\n",
    "    tp_data = small_crawl.get_third_party_responses_by_domain(site)\n",
    "    for url in tp_data:\n",
    "        url_ps = tp_data[url]['url_ps']\n",
    "        is_tracker = tp_data[url]['is_tracker']\n",
    "        if is_tracker:\n",
    "            if tp_data[url]['is_js']:\n",
    "                tracker_js_by_top[site].add(url_ps)\n",
    "            elif tp_data[url]['is_img']:\n",
    "                tracker_img_by_top[site].add(url_ps)\n",
    "            else:\n",
    "                tracker_other_by_top[site].add(url_ps)\n",
    "        else:\n",
    "            if tp_data[url]['is_js']:\n",
    "                non_tracker_js_by_top[site].add(url_ps)\n",
    "            elif tp_data[url]['is_img']:\n",
    "                non_tracker_img_by_top[site].add(url_ps)           \n",
    "            else:\n",
    "                non_tracker_other_by_top[site].add(url_ps)\n"
   ]
  },
  {
   "cell_type": "code",
   "execution_count": null,
   "metadata": {
    "collapsed": false
   },
   "outputs": [],
   "source": [
    "# Save output as .dill\n",
    "\n",
    "with open('tracker_js_by_top.dill', 'wb') as f:\n",
    "    dill.dump(tracker_js_by_top, f)\n",
    "with open('tracker_js_by_top.dill', 'wb') as f:\n",
    "    dill.dump(non_tracker_js_by_top, f)\n",
    "with open('tracker_img_by_top.dill', 'wb') as f:\n",
    "    dill.dump(tracker_img_by_top, f)\n",
    "with open('non_tracker_img_by_top.dill', 'wb') as f:\n",
    "    dill.dump(non_tracker_img_by_top, f)\n",
    "with open('tracker_other_by_top.dill', 'wb') as f:\n",
    "    dill.dump(tracker_other_by_top, f)\n",
    "with open('non_tracker_other_by_top.dill', 'wb') as f:\n",
    "    dill.dump(non_tracker_other_by_top, f)"
   ]
  },
  {
   "cell_type": "code",
   "execution_count": null,
   "metadata": {
    "collapsed": false
   },
   "outputs": [],
   "source": [
    "# Save output in CSVs\n",
    "with open('tracker_js_by_top.csv', 'w') as f:\n",
    "    writer = csv.writer(f)\n",
    "    writer.writerow(['top_url', 'tp_domain'])\n",
    "    for top in tracker_js_by_top:\n",
    "        for tp in tracker_js_by_top[top]:\n",
    "            writer.writerow([top, tp])\n",
    "with open('non_tracker_js_by_top.csv', 'w') as f:\n",
    "    writer = csv.writer(f)\n",
    "    writer.writerow(['top_url', 'tp_domain'])\n",
    "    for top in non_tracker_js_by_top:\n",
    "        for tp in non_tracker_js_by_top[top]:\n",
    "            writer.writerow([top, tp])\n",
    "with open('tracker_img_by_top.csv', 'w') as f:\n",
    "    writer = csv.writer(f)\n",
    "    writer.writerow(['top_url', 'tp_domain'])\n",
    "    for top in tracker_img_by_top:\n",
    "        for tp in tracker_img_by_top[top]:\n",
    "            writer.writerow([top, tp])\n",
    "with open('non_tracker_img_by_top.csv', 'w') as f:\n",
    "    writer = csv.writer(f)\n",
    "    writer.writerow(['top_url', 'tp_domain'])\n",
    "    for top in non_tracker_img_by_top:\n",
    "        for tp in non_tracker_img_by_top[top]:\n",
    "            writer.writerow([top, tp])\n",
    "with open('tracker_other_by_top.csv', 'w') as f:\n",
    "    writer = csv.writer(f)\n",
    "    writer.writerow(['top_url', 'tp_domain'])\n",
    "    for top in tracker_other_by_top:\n",
    "        for tp in tracker_other_by_top[top]:\n",
    "            writer.writerow([top, tp])\n",
    "with open('non_tracker_other_by_top.csv', 'w') as f:\n",
    "    writer = csv.writer(f)\n",
    "    writer.writerow(['top_url', 'tp_domain'])\n",
    "    for top in non_tracker_other_by_top:\n",
    "        for tp in non_tracker_other_by_top[top]:\n",
    "            writer.writerow([top, tp])"
   ]
  },
  {
   "cell_type": "markdown",
   "metadata": {},
   "source": [
    "## Get top_urls that load a resource from a given third party domain\n",
    "\n",
    "`census.get_top_urls_with_third_party_domain(con, tp_domain)` returns a dictionary mapping top_urls in the census to a list of urls that were loaded on that top_url belonging to a certain tp_domain."
   ]
  },
  {
   "cell_type": "code",
   "execution_count": null,
   "metadata": {
    "collapsed": false
   },
   "outputs": [],
   "source": [
    "tp_domain = 'addthis.com'\n",
    "\n",
    "tps_by_top = small_crawl.get_top_urls_with_third_party_domain(tp_domain)\n",
    "\n",
    "print(\"Number of top_urls with given third party : \" + str(len(tps_by_top)))"
   ]
  },
  {
   "cell_type": "code",
   "execution_count": null,
   "metadata": {
    "collapsed": false
   },
   "outputs": [],
   "source": [
    "c = small_crawl.connection.cursor(\"urls-rewrite\")\n",
    "c.itersize = 100000\n",
    "\n",
    "c.execute('SELECT * FROM urls')\n",
    "print('executed!')\n",
    "counter = 0\n",
    "for row in c:\n",
    "    counter += 1\n",
    "    #print(row)\n",
    "    if counter % 100 == 0:\n",
    "        print(counter)\n"
   ]
  },
  {
   "cell_type": "markdown",
   "metadata": {},
   "source": [
    "## Get \"cookie sync\" events on a given top_url\n",
    "Note: This does not include logic for isolating \"identifying cookies.\" Any cookies of a sufficient cookie length that are shared with other domains will be identified."
   ]
  },
  {
   "cell_type": "code",
   "execution_count": null,
   "metadata": {
    "collapsed": false
   },
   "outputs": [],
   "source": [
    "# For a single top_url...\n",
    "\n",
    "results = small_crawl.get_cookie_syncs_v2('http://microsoft.com', cookie_length=8)\n",
    "\n",
    "for receiving_url in results:\n",
    "    print(\"R: \" + receiving_url)\n",
    "    for sending_url, val in results[receiving_url]:\n",
    "        print(\"\\tS: \" + sending_url)\n",
    "        print(\"\\tV: \" + val)"
   ]
  },
  {
   "cell_type": "code",
   "execution_count": null,
   "metadata": {
    "collapsed": false
   },
   "outputs": [],
   "source": [
    "# For a list of top_urls...\n",
    "# Warning: this method is slow.\n",
    "\n",
    "sites = ['http://microsoft.com', 'http://cnn.com']  # Change me!\n",
    "\n",
    "cookie_sync_data = defaultdict(defaultdict)\n",
    "for i, site in sites:\n",
    "    print(site)\n",
    "    cookie_sync_data[site] = small_crawl.get_cookie_syncs_v2(site, cookie_length=8)\n"
   ]
  },
  {
   "cell_type": "code",
   "execution_count": null,
   "metadata": {
    "collapsed": false
   },
   "outputs": [],
   "source": [
    "# Write output as .dill\n",
    "with open('cookie_syncs.dill', 'w') as f:\n",
    "    dill.dump(cookie_sync_data, f)\n",
    "\n",
    "# Write complete output as csv\n",
    "with open('cookie_syncs.csv', 'w') as f:\n",
    "    writer = csv.writer(f)\n",
    "    writer.writerow(['top_url', 'sending_domain', 'receiving_url', 'cookie_value'])\n",
    "    for site in cookie_sync_data:\n",
    "        for receiving_url in cookie_sync_data[site]:\n",
    "            for sending_url, cookie_value in cookie_sync_data[site][receiving_url]:\n",
    "                writer.writerow([site, sending_url, receiving_url, cookie_value])\n",
    "\n",
    "# Write partial output as CSV, only identifying sending domain and receiving domain\n",
    "# (rather than the full receiving URL)\n",
    "\n",
    "cooks_just_domains = defaultdict(defaultdict)\n",
    "for site in cookie_sync_data:\n",
    "    cooks_just_domains[site] = defaultdict(set)\n",
    "    for receiving_url in cookie_sync_data[site]:\n",
    "        for sending_domain, value in cookie_sync_data[site][receiving_url]:\n",
    "            cooks_just_domains[site][utils.get_host_plus_ps(receiving_url)].add(sending_domain)\n",
    "with open('../wsj/cookie_syncs_v2_just_domains.csv', 'w') as f:\n",
    "    writer = csv.writer(f)\n",
    "    writer.writerow(['top_url', 'sending_domain', 'receiving_domain'])\n",
    "    for site in cooks_just_domains:\n",
    "        for receiving_domain in cooks_just_domains[site]:\n",
    "            if len(cooks_just_domains[site][receiving_domain]) > 1 and 'NOT_FOUND' in cooks_just_domains[site][receiving_domain]:\n",
    "                cooks_just_domains[site][receiving_domain].discard('NOT_FOUND')\n",
    "            for sending_domain in cooks_just_domains[site][receiving_domain]:\n",
    "                writer.writerow([site, sending_domain, receiving_domain])"
   ]
  },
  {
   "cell_type": "markdown",
   "metadata": {},
   "source": [
    "## Check a given url against a blocklist\n",
    "Available blocklists:\n",
    "* easylist.txt\n",
    "* easyprivacy.txt"
   ]
  },
  {
   "cell_type": "code",
   "execution_count": null,
   "metadata": {
    "collapsed": false
   },
   "outputs": [],
   "source": [
    "print(utils.is_tracker('http://tags.bkrtx.com/js/bk-coretag.js', is_js=True, is_img=False, \n",
    "                       first_party='http://verizonwireless.com', blocklist='easylist.txt'))\n"
   ]
  },
  {
   "cell_type": "markdown",
   "metadata": {},
   "source": [
    "## Get third party scripts on given top_url that call particular javascript symbol"
   ]
  },
  {
   "cell_type": "code",
   "execution_count": null,
   "metadata": {
    "collapsed": false,
    "scrolled": true
   },
   "outputs": [],
   "source": [
    "print(small_crawl.get_urls_with('http://cnn.com', 'CanvasRenderingContext2D.fillText'))"
   ]
  },
  {
   "cell_type": "markdown",
   "metadata": {},
   "source": [
    "## Get the PS+1 of a given top_url"
   ]
  },
  {
   "cell_type": "code",
   "execution_count": null,
   "metadata": {
    "collapsed": false
   },
   "outputs": [],
   "source": [
    "print(utils.get_host_plus_ps('http://subdomain.example.com/this/will/be/deleted.jpg'))"
   ]
  },
  {
   "cell_type": "code",
   "execution_count": null,
   "metadata": {
    "collapsed": true
   },
   "outputs": [],
   "source": [
    "c.close()\n",
    "small_crawl.connection.rollback()"
   ]
  }
 ],
 "metadata": {
  "kernelspec": {
   "display_name": "Python 3",
   "language": "python",
   "name": "python3"
  },
  "language_info": {
   "codemirror_mode": {
    "name": "ipython",
    "version": 3
   },
   "file_extension": ".py",
   "mimetype": "text/x-python",
   "name": "python",
   "nbconvert_exporter": "python",
   "pygments_lexer": "ipython3",
   "version": "3.5.2"
  }
 },
 "nbformat": 4,
 "nbformat_minor": 0
}
