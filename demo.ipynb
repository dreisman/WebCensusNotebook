{
 "cells": [
  {
   "cell_type": "markdown",
   "metadata": {},
   "source": [
    "# Princeton Web Census Interface\n",
    "## *About:*\n",
    "This jupyter notebook provides an interface for interacting with data from the Princeton Web Census.\n",
    "\n",
    "For questions or comments, feel free to email dill.reisman@gmail.com, or open up an issue on [our Github repo](https://github.com/dreisman/WebCensusNotebook).\n",
    "\n",
    "## *How to use:*\n",
    "To execute a cell, select/click it, and either press the 'play' button in the top tool bar or use the keyboard shortcut shift+enter\n",
    "\n",
    "## *Warning:*\n",
    "This interface is optimized for fast exploration of individual first parties and third parties. Actions that require a lot of data from many third parties/first parties can get slow. For instance, we do not recommend attempting to get all third party resources on more than 10000 first parties all at once, unless you intend to wait. We recommend sampling where you can, and estimating how many first parties and third parties you might be accessing before fully executing a command.\n",
    "\n",
    "\n",
    "## *Getting started:*\n",
    "\n",
    "Run the cell below to create a `Census` object, which provides the interface for accessing the web census data for a particular web census crawl. Everything you need is encapsulated by this object.\n",
    "\n",
    "For instance, if you want to get information about a particular third party, you can access it through Census.third_parties['thirdparty.com'].\n",
    "\n",
    "For information about a first party, you can access Census.first_parties['firstparty.com'].\n",
    "\n",
    "For information about a particular known Organization, you can access Census.organizations['Org Name'].\n",
    "\n",
    "All objects you access provide many properties you can explore, from the Alexa rank of a first party to the third party resources that a first party embeds on the site, and which of those third party resources are trackers. The best way to learn about our data is to explore the interface.\n",
    "\n",
    "## *Available census crawls:*\n",
    "\n",
    "* \"census_2016_10_1m_stateless\": A crawl of the top 1M sites from October 2016. Browser state (cookies, localstorage, etc.) was cleared between each site visit.\n",
    "\n"
   ]
  },
  {
   "cell_type": "code",
   "execution_count": null,
   "metadata": {
    "collapsed": false
   },
   "outputs": [],
   "source": [
    "### Execute this cell first! Select it and hit shift+enter. It'll take approx. 10 seconds to initialize.\n",
    "import matplotlib.pyplot as plt\n",
    "%matplotlib inline\n",
    "import sys\n",
    "import os\n",
    "sys.path.append(os.path.realpath('censuslib'))\n",
    "from censuslib import census\n",
    "\n",
    "# Note: If you'd like to access one of our other databases, replace census_name\n",
    "# with one of our other available crawls listed above\n",
    "census_name = 'census_2016_10_1m_stateless'\n",
    "\n",
    "# the 'cen' Census object provides the interface for interacting with\n",
    "# census data\n",
    "cen = census.Census(census_name)"
   ]
  },
  {
   "cell_type": "markdown",
   "metadata": {},
   "source": [
    "## Basic use of the interface\n",
    "You can append '?' to the end of an object to get a description of the object. Each object has many properties that can aid you in analyzing the data. Try running the below cells to learn more about the different objects you can access and their properties:"
   ]
  },
  {
   "cell_type": "code",
   "execution_count": null,
   "metadata": {
    "collapsed": false
   },
   "outputs": [],
   "source": [
    "# The top level census object\n",
    "cen?"
   ]
  },
  {
   "cell_type": "code",
   "execution_count": null,
   "metadata": {
    "collapsed": true
   },
   "outputs": [],
   "source": [
    "# A container of all FirstParties visited in the census\n",
    "cen.first_parties?"
   ]
  },
  {
   "cell_type": "code",
   "execution_count": null,
   "metadata": {
    "collapsed": true
   },
   "outputs": [],
   "source": [
    "# A container of all ThirdParties visited in the census\n",
    "cen.third_parties?"
   ]
  },
  {
   "cell_type": "code",
   "execution_count": null,
   "metadata": {
    "collapsed": true
   },
   "outputs": [],
   "source": [
    "# A particular FirstParty visited in the census \n",
    "nytimes = cen.first_parties['nytimes.com']\n",
    "nytimes?"
   ]
  },
  {
   "cell_type": "code",
   "execution_count": null,
   "metadata": {
    "collapsed": true
   },
   "outputs": [],
   "source": [
    "# A container of ThirdParties found on a particular FirstParty\n",
    "nytimes_tps = cen.first_parties['nytimes.com'].third_parties\n",
    "nytimes_tps?"
   ]
  },
  {
   "cell_type": "code",
   "execution_count": null,
   "metadata": {
    "collapsed": false
   },
   "outputs": [],
   "source": [
    "# A list of instances (URIs) of third parties found on a particular FirstParty\n",
    "nytimes_tp_uris = cen.first_parties['nytimes.com'].third_party_resources\n",
    "single_resource = nytimes_tp_uris[0]\n",
    "single_resource?"
   ]
  },
  {
   "cell_type": "code",
   "execution_count": null,
   "metadata": {
    "collapsed": false
   },
   "outputs": [],
   "source": [
    "# A particular ThirdParty observed in the census\n",
    "optimizely = cen.third_parties['optimizely.com']\n",
    "optimizely?"
   ]
  },
  {
   "cell_type": "code",
   "execution_count": null,
   "metadata": {
    "collapsed": true
   },
   "outputs": [],
   "source": [
    "# A container of FirstParties that have a particular ThirdParty\n",
    "optimizely_org = cen.third_parties['optimizely.com'].organization\n",
    "optimizely_org?"
   ]
  },
  {
   "cell_type": "markdown",
   "metadata": {},
   "source": [
    "### Example: The average number of third party domains by Alexa category"
   ]
  },
  {
   "cell_type": "code",
   "execution_count": null,
   "metadata": {
    "collapsed": false
   },
   "outputs": [],
   "source": [
    "for category in cen.first_parties.alexa_categories:\n",
    "    avg = sum(len(set(tp.domain for tp in fp.third_party_resources))\n",
    "              for fp in cen.first_parties.alexa_categories[category][:100]) / 100\n",
    "    \n",
    "    print(\"Average number of third party domains on \" + category + \" sites: \")\n",
    "    print(\"\\t\" + str(avg))\n"
   ]
  },
  {
   "cell_type": "markdown",
   "metadata": {},
   "source": [
    "### Example: The average number of trackers on the top 100 first parties"
   ]
  },
  {
   "cell_type": "code",
   "execution_count": null,
   "metadata": {
    "collapsed": false
   },
   "outputs": [],
   "source": [
    "top_n = 100\n",
    "avg = len([tp for fp in cen.first_parties[:top_n] for tp in fp.third_party_resources if tp.is_tracker]) / top_n\n",
    "avg"
   ]
  },
  {
   "cell_type": "markdown",
   "metadata": {},
   "source": [
    "### Example: All FirstParties that embed resources belonging to a particular organization"
   ]
  },
  {
   "cell_type": "code",
   "execution_count": null,
   "metadata": {
    "collapsed": false
   },
   "outputs": [],
   "source": [
    "org_name = 'AppNexus'\n",
    "first_parties_with_org = set()\n",
    "\n",
    "# For each domain that the Organization owns, aggregate the FirstParties that embed a resource from it.\n",
    "for domain in cen.organizations[org_name].domains:\n",
    "    try:\n",
    "        first_parties_with_org.update(cen.third_parties[domain].first_parties)\n",
    "    # Not all domains may have been observed in the crawl, so continue through Exception.\n",
    "    except census.CensusException:\n",
    "        continue\n",
    "        \n",
    "print(\"Number of domains controlled by \" + org_name + \": \" + str(len(cen.organizations[org_name].domains)))\n",
    "print(\"Number of sites with organization: \" + str(len(first_parties_with_org)))\n",
    "first_parties_with_org"
   ]
  },
  {
   "cell_type": "markdown",
   "metadata": {},
   "source": [
    "# Play with the interface below!"
   ]
  },
  {
   "cell_type": "code",
   "execution_count": null,
   "metadata": {
    "collapsed": false
   },
   "outputs": [],
   "source": []
  }
 ],
 "metadata": {
  "kernelspec": {
   "display_name": "Python 3",
   "language": "python",
   "name": "python3"
  },
  "language_info": {
   "codemirror_mode": {
    "name": "ipython",
    "version": 3
   },
   "file_extension": ".py",
   "mimetype": "text/x-python",
   "name": "python",
   "nbconvert_exporter": "python",
   "pygments_lexer": "ipython3",
   "version": "3.5.2"
  }
 },
 "nbformat": 4,
 "nbformat_minor": 2
}
